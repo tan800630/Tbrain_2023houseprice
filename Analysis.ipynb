{
 "cells": [
  {
   "cell_type": "markdown",
   "id": "756b36ee-19b6-4687-907b-1d5a151e1b4a",
   "metadata": {},
   "source": [
    "## 載入套件"
   ]
  },
  {
   "cell_type": "code",
   "execution_count": 1,
   "id": "772413ab-7d75-41a6-b7a8-2e7b441dc76e",
   "metadata": {},
   "outputs": [],
   "source": [
    "import os\n",
    "import re\n",
    "import pickle\n",
    "import numpy as np\n",
    "import pandas as pd\n",
    "from lightgbm import LGBMRegressor\n",
    "from sklearn.metrics import mean_absolute_percentage_error\n",
    "\n",
    "import matplotlib.pyplot as plt\n",
    "import matplotlib\n",
    "matplotlib.rc('font', family='Microsoft JhengHei')\n",
    "plt.rcParams['axes.unicode_minus'] = False\n",
    "\n",
    "%matplotlib inline"
   ]
  },
  {
   "cell_type": "markdown",
   "id": "31be53ee-efa8-45d4-aeb0-a6a40306ea91",
   "metadata": {},
   "source": [
    "## 單價相關係數"
   ]
  },
  {
   "cell_type": "code",
   "execution_count": 2,
   "id": "c057189d-60b5-4ef0-9b0d-5263b94dc151",
   "metadata": {},
   "outputs": [],
   "source": [
    "# 讀取資料\n",
    "'''\n",
    "此份檔案為2.Preproc_modeling 中前處理完成後之資料\n",
    "(train_x, train_y, valid_x, valid_y)\n",
    "\n",
    "為準確地反映相關係數的狀況，並未對特徵進行quantisation\n",
    "'''\n",
    "\n",
    "with open('final_version_preproc_data_noq.pkl', 'rb') as f:\n",
    "    train_x, train_y, valid_x, valid_y = pickle.load(f)"
   ]
  },
  {
   "cell_type": "code",
   "execution_count": 3,
   "id": "ac0886c4-1a09-452d-a15d-2653babcb463",
   "metadata": {},
   "outputs": [
    {
     "data": {
      "text/plain": [
       "(11749, 517)"
      ]
     },
     "execution_count": 3,
     "metadata": {},
     "output_type": "execute_result"
    }
   ],
   "source": [
    "total_df = pd.concat([train_x, valid_x])\n",
    "total_df['單價'] = pd.concat([train_y, valid_y])\n",
    "total_df.shape"
   ]
  },
  {
   "cell_type": "code",
   "execution_count": 4,
   "id": "5371fcc1-8e57-4496-be5d-562cd2963848",
   "metadata": {
    "tags": []
   },
   "outputs": [],
   "source": [
    "# 逐次取每個特徵，移除遺漏值(固定為-1)後與單價計算相關係數\n",
    "\n",
    "corr_ls = []\n",
    "c_ls = []\n",
    "for c in total_df.columns:\n",
    "    if c=='單價':\n",
    "        continue\n",
    "    corr_ls.append(total_df[total_df[c]>0][['單價', c]].corr()['單價'].iloc[1])\n",
    "    c_ls.append(c)\n"
   ]
  },
  {
   "cell_type": "code",
   "execution_count": 5,
   "id": "455eb19e-2521-4e6f-a19f-d9d2e803f058",
   "metadata": {
    "tags": []
   },
   "outputs": [
    {
     "data": {
      "text/html": [
       "<div>\n",
       "<style scoped>\n",
       "    .dataframe tbody tr th:only-of-type {\n",
       "        vertical-align: middle;\n",
       "    }\n",
       "\n",
       "    .dataframe tbody tr th {\n",
       "        vertical-align: top;\n",
       "    }\n",
       "\n",
       "    .dataframe thead th {\n",
       "        text-align: right;\n",
       "    }\n",
       "</style>\n",
       "<table border=\"1\" class=\"dataframe\">\n",
       "  <thead>\n",
       "    <tr style=\"text-align: right;\">\n",
       "      <th></th>\n",
       "      <th>columns</th>\n",
       "      <th>corr</th>\n",
       "    </tr>\n",
       "  </thead>\n",
       "  <tbody>\n",
       "    <tr>\n",
       "      <th>44</th>\n",
       "      <td>price_sd_屋齡_型態_移轉層次</td>\n",
       "      <td>0.789123</td>\n",
       "    </tr>\n",
       "    <tr>\n",
       "      <th>23</th>\n",
       "      <td>price_sd_移轉</td>\n",
       "      <td>0.789154</td>\n",
       "    </tr>\n",
       "    <tr>\n",
       "      <th>31</th>\n",
       "      <td>price_sd_屋齡_型態</td>\n",
       "      <td>0.798052</td>\n",
       "    </tr>\n",
       "    <tr>\n",
       "      <th>103</th>\n",
       "      <td>price_sd_型態</td>\n",
       "      <td>0.806938</td>\n",
       "    </tr>\n",
       "    <tr>\n",
       "      <th>113</th>\n",
       "      <td>price_sd_屋齡</td>\n",
       "      <td>0.810949</td>\n",
       "    </tr>\n",
       "    <tr>\n",
       "      <th>107</th>\n",
       "      <td>total_price_型態</td>\n",
       "      <td>0.811513</td>\n",
       "    </tr>\n",
       "    <tr>\n",
       "      <th>143</th>\n",
       "      <td>price_路名_rev</td>\n",
       "      <td>0.823073</td>\n",
       "    </tr>\n",
       "    <tr>\n",
       "      <th>150</th>\n",
       "      <td>price_型態_rev</td>\n",
       "      <td>0.842823</td>\n",
       "    </tr>\n",
       "    <tr>\n",
       "      <th>286</th>\n",
       "      <td>price_屋齡_neighbor_mean1</td>\n",
       "      <td>0.858809</td>\n",
       "    </tr>\n",
       "    <tr>\n",
       "      <th>284</th>\n",
       "      <td>price_精準_neighbor_mean1</td>\n",
       "      <td>0.871824</td>\n",
       "    </tr>\n",
       "    <tr>\n",
       "      <th>22</th>\n",
       "      <td>price_移轉</td>\n",
       "      <td>0.889820</td>\n",
       "    </tr>\n",
       "    <tr>\n",
       "      <th>93</th>\n",
       "      <td>price_路名</td>\n",
       "      <td>0.903164</td>\n",
       "    </tr>\n",
       "    <tr>\n",
       "      <th>131</th>\n",
       "      <td>price_路名_型態2023</td>\n",
       "      <td>0.910803</td>\n",
       "    </tr>\n",
       "    <tr>\n",
       "      <th>119</th>\n",
       "      <td>price_路名_型態2020</td>\n",
       "      <td>0.916630</td>\n",
       "    </tr>\n",
       "    <tr>\n",
       "      <th>112</th>\n",
       "      <td>price_屋齡</td>\n",
       "      <td>0.917241</td>\n",
       "    </tr>\n",
       "    <tr>\n",
       "      <th>30</th>\n",
       "      <td>price_屋齡_型態</td>\n",
       "      <td>0.921228</td>\n",
       "    </tr>\n",
       "    <tr>\n",
       "      <th>43</th>\n",
       "      <td>price_屋齡_型態_移轉層次</td>\n",
       "      <td>0.921603</td>\n",
       "    </tr>\n",
       "    <tr>\n",
       "      <th>82</th>\n",
       "      <td>price_路名_型態</td>\n",
       "      <td>0.929192</td>\n",
       "    </tr>\n",
       "    <tr>\n",
       "      <th>123</th>\n",
       "      <td>price_同建物2020</td>\n",
       "      <td>0.929257</td>\n",
       "    </tr>\n",
       "    <tr>\n",
       "      <th>127</th>\n",
       "      <td>price_精準2020</td>\n",
       "      <td>0.936836</td>\n",
       "    </tr>\n",
       "    <tr>\n",
       "      <th>135</th>\n",
       "      <td>price_同建物2023</td>\n",
       "      <td>0.941655</td>\n",
       "    </tr>\n",
       "    <tr>\n",
       "      <th>513</th>\n",
       "      <td>單價rs_mean1000</td>\n",
       "      <td>0.955716</td>\n",
       "    </tr>\n",
       "    <tr>\n",
       "      <th>139</th>\n",
       "      <td>price_精準2023</td>\n",
       "      <td>0.956578</td>\n",
       "    </tr>\n",
       "    <tr>\n",
       "      <th>515</th>\n",
       "      <td>單價r_mean_age1000</td>\n",
       "      <td>0.962710</td>\n",
       "    </tr>\n",
       "    <tr>\n",
       "      <th>56</th>\n",
       "      <td>price_屋齡_型態_路名</td>\n",
       "      <td>0.963289</td>\n",
       "    </tr>\n",
       "    <tr>\n",
       "      <th>511</th>\n",
       "      <td>單價rs_mean200</td>\n",
       "      <td>0.964924</td>\n",
       "    </tr>\n",
       "    <tr>\n",
       "      <th>69</th>\n",
       "      <td>price_同建物</td>\n",
       "      <td>0.970935</td>\n",
       "    </tr>\n",
       "    <tr>\n",
       "      <th>514</th>\n",
       "      <td>單價rs_mean_age1000</td>\n",
       "      <td>0.972933</td>\n",
       "    </tr>\n",
       "    <tr>\n",
       "      <th>12</th>\n",
       "      <td>price_精準</td>\n",
       "      <td>0.973775</td>\n",
       "    </tr>\n",
       "    <tr>\n",
       "      <th>512</th>\n",
       "      <td>單價rs_mean_age200</td>\n",
       "      <td>0.974237</td>\n",
       "    </tr>\n",
       "  </tbody>\n",
       "</table>\n",
       "</div>"
      ],
      "text/plain": [
       "                     columns      corr\n",
       "44       price_sd_屋齡_型態_移轉層次  0.789123\n",
       "23               price_sd_移轉  0.789154\n",
       "31            price_sd_屋齡_型態  0.798052\n",
       "103              price_sd_型態  0.806938\n",
       "113              price_sd_屋齡  0.810949\n",
       "107           total_price_型態  0.811513\n",
       "143             price_路名_rev  0.823073\n",
       "150             price_型態_rev  0.842823\n",
       "286  price_屋齡_neighbor_mean1  0.858809\n",
       "284  price_精準_neighbor_mean1  0.871824\n",
       "22                  price_移轉  0.889820\n",
       "93                  price_路名  0.903164\n",
       "131          price_路名_型態2023  0.910803\n",
       "119          price_路名_型態2020  0.916630\n",
       "112                 price_屋齡  0.917241\n",
       "30               price_屋齡_型態  0.921228\n",
       "43          price_屋齡_型態_移轉層次  0.921603\n",
       "82               price_路名_型態  0.929192\n",
       "123            price_同建物2020  0.929257\n",
       "127             price_精準2020  0.936836\n",
       "135            price_同建物2023  0.941655\n",
       "513            單價rs_mean1000  0.955716\n",
       "139             price_精準2023  0.956578\n",
       "515         單價r_mean_age1000  0.962710\n",
       "56            price_屋齡_型態_路名  0.963289\n",
       "511             單價rs_mean200  0.964924\n",
       "69                 price_同建物  0.970935\n",
       "514        單價rs_mean_age1000  0.972933\n",
       "12                  price_精準  0.973775\n",
       "512         單價rs_mean_age200  0.974237"
      ]
     },
     "execution_count": 5,
     "metadata": {},
     "output_type": "execute_result"
    }
   ],
   "source": [
    "# 與單價相關係數最高的30個特徵\n",
    "pd.DataFrame({'columns':c_ls, 'corr':corr_ls}).dropna().sort_values('corr').tail(30)"
   ]
  },
  {
   "cell_type": "code",
   "execution_count": 6,
   "id": "b944e55a-f606-47c6-b18b-8fb4500a61b6",
   "metadata": {},
   "outputs": [
    {
     "data": {
      "image/png": "[encoded data removed]",
      "text/plain": [
       "<Figure size 640x480 with 1 Axes>"
      ]
     },
     "metadata": {},
     "output_type": "display_data"
    }
   ],
   "source": [
    "# 取 Price_精準 (實價登錄衍生特徵中相關係數最高者) 繪製散佈圖\n",
    "\n",
    "plt.scatter(total_df[total_df['price_精準']>0]['price_精準'],\n",
    "            total_df[total_df['price_精準']>0]['單價'], alpha = 0.1)\n",
    "plt.title(f'Price_精準 - 單價 散佈圖  Pearsons\\'r : 0.9738')\n",
    "plt.xlabel('單價')\n",
    "plt.ylabel('Price_精準')\n",
    "plt.show()"
   ]
  },
  {
   "cell_type": "code",
   "execution_count": 7,
   "id": "689587e3-6869-4f76-841e-f923f0e5cd15",
   "metadata": {
    "tags": []
   },
   "outputs": [
    {
     "data": {
      "text/html": [
       "<div>\n",
       "<style scoped>\n",
       "    .dataframe tbody tr th:only-of-type {\n",
       "        vertical-align: middle;\n",
       "    }\n",
       "\n",
       "    .dataframe tbody tr th {\n",
       "        vertical-align: top;\n",
       "    }\n",
       "\n",
       "    .dataframe thead th {\n",
       "        text-align: right;\n",
       "    }\n",
       "</style>\n",
       "<table border=\"1\" class=\"dataframe\">\n",
       "  <thead>\n",
       "    <tr style=\"text-align: right;\">\n",
       "      <th></th>\n",
       "      <th>columns</th>\n",
       "      <th>non_mapping_percent</th>\n",
       "    </tr>\n",
       "  </thead>\n",
       "  <tbody>\n",
       "    <tr>\n",
       "      <th>0</th>\n",
       "      <td>price_精準</td>\n",
       "      <td>0.551281</td>\n",
       "    </tr>\n",
       "    <tr>\n",
       "      <th>1</th>\n",
       "      <td>price_sd_精準</td>\n",
       "      <td>0.828411</td>\n",
       "    </tr>\n",
       "    <tr>\n",
       "      <th>2</th>\n",
       "      <td>price_skew_精準</td>\n",
       "      <td>0.865606</td>\n",
       "    </tr>\n",
       "    <tr>\n",
       "      <th>3</th>\n",
       "      <td>total_price_精準</td>\n",
       "      <td>0.551281</td>\n",
       "    </tr>\n",
       "    <tr>\n",
       "      <th>4</th>\n",
       "      <td>parking_price_精準</td>\n",
       "      <td>0.551281</td>\n",
       "    </tr>\n",
       "    <tr>\n",
       "      <th>...</th>\n",
       "      <td>...</td>\n",
       "      <td>...</td>\n",
       "    </tr>\n",
       "    <tr>\n",
       "      <th>72</th>\n",
       "      <td>ref_price_路名_屋齡</td>\n",
       "      <td>0.454422</td>\n",
       "    </tr>\n",
       "    <tr>\n",
       "      <th>73</th>\n",
       "      <td>ref_price_路名_型態_型態</td>\n",
       "      <td>0.518172</td>\n",
       "    </tr>\n",
       "    <tr>\n",
       "      <th>74</th>\n",
       "      <td>ref_price_型態_移轉</td>\n",
       "      <td>0.381309</td>\n",
       "    </tr>\n",
       "    <tr>\n",
       "      <th>75</th>\n",
       "      <td>ref_price_路名_型態_路名_型態_屋齡</td>\n",
       "      <td>0.381735</td>\n",
       "    </tr>\n",
       "    <tr>\n",
       "      <th>76</th>\n",
       "      <td>rev_路名_price_pro</td>\n",
       "      <td>0.637501</td>\n",
       "    </tr>\n",
       "  </tbody>\n",
       "</table>\n",
       "<p>77 rows × 2 columns</p>\n",
       "</div>"
      ],
      "text/plain": [
       "                     columns  non_mapping_percent\n",
       "0                   price_精準             0.551281\n",
       "1                price_sd_精準             0.828411\n",
       "2              price_skew_精準             0.865606\n",
       "3             total_price_精準             0.551281\n",
       "4           parking_price_精準             0.551281\n",
       "..                       ...                  ...\n",
       "72           ref_price_路名_屋齡             0.454422\n",
       "73        ref_price_路名_型態_型態             0.518172\n",
       "74           ref_price_型態_移轉             0.381309\n",
       "75  ref_price_路名_型態_路名_型態_屋齡             0.381735\n",
       "76          rev_路名_price_pro             0.637501\n",
       "\n",
       "[77 rows x 2 columns]"
      ]
     },
     "execution_count": 7,
     "metadata": {},
     "output_type": "execute_result"
    }
   ],
   "source": [
    "# 計算不同篩選條件下之實價登錄衍生特徵(以price做代表)之未配對比例\n",
    "\n",
    "out_list = []\n",
    "c_list = []\n",
    "for c in train_x.filter(regex='price'):\n",
    "    out_list.append(np.mean(total_df[c]<0))\n",
    "    c_list.append(c)\n",
    "\n",
    "pd.DataFrame({'columns':c_list, 'non_mapping_percent':out_list})"
   ]
  },
  {
   "cell_type": "markdown",
   "id": "75af2c7d-08f3-46b4-b7c5-e14db2b734f4",
   "metadata": {},
   "source": [
    "## 模型表現差異測試\n",
    "以不同特徵組合測試模型表現"
   ]
  },
  {
   "cell_type": "code",
   "execution_count": 8,
   "id": "cf8199f3-6267-4b29-9964-4c4e55e235e8",
   "metadata": {},
   "outputs": [],
   "source": [
    "# 讀取資料\n",
    "'''\n",
    "此份檔案為2.Preproc_modeling 中前處理完成後之資料\n",
    "(train_x, train_y, valid_x, valid_y)\n",
    "\n",
    "包含 feature quantisation\n",
    "'''\n",
    "\n",
    "\n",
    "with open('final_version_preproc_data.pkl', 'rb') as f:\n",
    "    train_x, train_y, valid_x, valid_y = pickle.load(f)"
   ]
  },
  {
   "cell_type": "code",
   "execution_count": 9,
   "id": "f3eb3cef-ba28-4e35-ada8-85b0ed82544e",
   "metadata": {},
   "outputs": [
    {
     "name": "stdout",
     "output_type": "stream",
     "text": [
      "(9399, 516) (2350, 516)\n"
     ]
    }
   ],
   "source": [
    "print(train_x.shape, valid_x.shape)"
   ]
  },
  {
   "cell_type": "code",
   "execution_count": 10,
   "id": "4cf544e4-fc1f-4a27-95f4-1f87ae7041d0",
   "metadata": {},
   "outputs": [],
   "source": [
    "def featureset_scores(use_cols):\n",
    "    \n",
    "    seeds_list = [630, 810, 521, 806, 107]\n",
    "    n_repeat = len(seeds_list)\n",
    "    \n",
    "    train_mape_list = []\n",
    "    valid_mape_list = []\n",
    "    \n",
    "    for i in range(n_repeat):\n",
    "        model = LGBMRegressor(n_estimators=10000, learning_rate=5e-2, reg_alpha = 1e-2, reg_lambda = 5e-1, max_depth=12,\n",
    "                  importance_type=\"gain\", objective='mse', min_child_samples=3, random_state = seeds_list[i],\n",
    "                  subsample = 0.5, colsample_bytree=0.5, boosting_type = 'dart')\n",
    "        \n",
    "        model.fit(train_x.iloc[:,use_cols], train_y)\n",
    "        \n",
    "        train_pred = model.predict(train_x.iloc[:,use_cols])\n",
    "        valid_pred = model.predict(valid_x.iloc[:,use_cols])\n",
    "        \n",
    "        train_mape_list.append(mean_absolute_percentage_error(y_true = train_y, y_pred = train_pred))\n",
    "        valid_mape_list.append(mean_absolute_percentage_error(y_true = valid_y, y_pred = valid_pred))\n",
    "    \n",
    "    return train_mape_list, valid_mape_list"
   ]
  },
  {
   "cell_type": "markdown",
   "id": "3c4068d1-c6e8-4869-b30d-172eecf718cb",
   "metadata": {},
   "source": [
    "### 不同來源之特徵差異比較"
   ]
  },
  {
   "cell_type": "code",
   "execution_count": 11,
   "id": "5ff3f3b9-0df7-47d7-8bb9-1194a73f37fc",
   "metadata": {},
   "outputs": [],
   "source": [
    "# 原始特徵\n",
    "origin_feature = list(range(0, 12)) + list(range(342, 511))\n",
    "\n",
    "# 單純衍生特徵\n",
    "origin_derive = list(range(156, 165))\n",
    "\n",
    "# 鄰近設施相關特徵\n",
    "external_feature = list(range(165, 223))\n",
    "\n",
    "# 周邊特徵(x)\n",
    "nearest_feature_x = list(range(223, 284)) + list(range(287, 317))\n",
    "\n",
    "# 周邊特徵(y)\n",
    "nearest_feature_y = list(range(511, train_x.shape[1]))\n",
    "\n",
    "\n",
    "# 實價登錄相關特徵\n",
    "real_price2122_feature = list(range(12,118))+list(range(142,156))\n",
    "\n",
    "# 實價登錄相關特徵 - 2020\n",
    "real_price20_feature = list(range(118, 130))\n",
    "\n",
    "# 實價登錄相關特徵 - 2023\n",
    "real_price23_feature = list(range(130, 142)) + list(range(326, 327))\n",
    "\n",
    "# 實價登錄衍生特徵\n",
    "real_price_derive_feature = list(range(317, 326)) + list(range(327, 342)) + list(range(284, 287))"
   ]
  },
  {
   "cell_type": "code",
   "execution_count": 223,
   "id": "6204b0a4-219a-424b-8613-14b550881dad",
   "metadata": {},
   "outputs": [],
   "source": [
    "testing_feature_sets = {\n",
    "    'FULL_SET': list(range(train_x.shape[1])),\n",
    "    'ORIGIN_WITHOUTY':origin_feature+origin_derive+nearest_feature_x,\n",
    "    'ORIGIN':origin_feature+origin_derive+nearest_feature_x+nearest_feature_y,\n",
    "    'ORIGIN_EXTERNAL': origin_feature+origin_derive+external_feature+nearest_feature_x+nearest_feature_y,\n",
    "    'ORIGIN_EXT_REAL20':origin_feature+origin_derive+external_feature+nearest_feature_x+nearest_feature_y+real_price20_feature,\n",
    "    'ORIGIN_EXT_REAL22':origin_feature+origin_derive+external_feature+nearest_feature_x+nearest_feature_y+real_price20_feature+real_price2122_feature+real_price_derive_feature,\n",
    "}"
   ]
  },
  {
   "cell_type": "code",
   "execution_count": 224,
   "id": "649fdedd-10ab-4de3-980b-a0eae5abc9f5",
   "metadata": {},
   "outputs": [
    {
     "name": "stdout",
     "output_type": "stream",
     "text": [
      "FULL_SET 0.062660 0.000092\n",
      "ORIGIN_WITHOUTY 0.077053 0.000163\n",
      "ORIGIN 0.077531 0.000120\n",
      "ORIGIN_EXTERNAL 0.076368 0.000106\n",
      "ORIGIN_EXT_REAL20 0.074355 0.000167\n",
      "ORIGIN_EXT_REAL22 0.062665 0.000106\n"
     ]
    }
   ],
   "source": [
    "# 計算不同特徵組合下的mape平均與標準差\n",
    "\n",
    "for name, use_cols in testing_feature_sets.items():\n",
    "    \n",
    "    train_result, valid_result = featureset_scores(use_cols)\n",
    "    \n",
    "    print(f'{name} {np.mean(valid_result):.6f} {np.std(valid_result):.6f}')"
   ]
  },
  {
   "cell_type": "code",
   "execution_count": 225,
   "id": "c7173533-a7f3-43be-b612-bee049b3f7c6",
   "metadata": {},
   "outputs": [
    {
     "name": "stdout",
     "output_type": "stream",
     "text": [
      "FULL_SET 516\n",
      "ORIGIN_WITHOUTY 281\n",
      "ORIGIN 286\n",
      "ORIGIN_EXTERNAL 344\n",
      "ORIGIN_EXT_REAL20 356\n",
      "ORIGIN_EXT_REAL22 503\n"
     ]
    }
   ],
   "source": [
    "# 不同特徵組合之特徵數量\n",
    "\n",
    "for name, use_cols in testing_feature_sets.items():\n",
    "    print(name, len(use_cols))"
   ]
  },
  {
   "cell_type": "markdown",
   "id": "2c23f121-b6d4-4e06-b389-312b5182a1c2",
   "metadata": {},
   "source": [
    "## 針對實價登錄資料(2021-2022)產生之衍生特徵效果比較"
   ]
  },
  {
   "cell_type": "code",
   "execution_count": 249,
   "id": "eb73be43-b4f7-414a-b7d9-6688f9c70a20",
   "metadata": {},
   "outputs": [],
   "source": [
    "regex_filters = [\n",
    "    '[a-z]_精準$','[a-z]_移轉$', '[a-z]_屋齡_型態$', '[a-z]_屋齡_型態_移轉層次$', \n",
    "    '[a-z]_屋齡_型態_路名$', '[a-z]_同建物$', '[a-z]_路名_型態$', '[a-z]_路名$', '[a-z]_型態$', '[a-z]_屋齡', '[a-z]_路名_rev',\n",
    "    '[a-z]_型態_rev'\n",
    "]"
   ]
  },
  {
   "cell_type": "code",
   "execution_count": 254,
   "id": "fbfffacc-fbb9-4c46-b0e2-f89c94684a94",
   "metadata": {},
   "outputs": [
    {
     "name": "stdout",
     "output_type": "stream",
     "text": [
      "[a-z]_精準$ 0.069082 0.000124\n",
      "[a-z]_移轉$ 0.074619 0.000259\n",
      "[a-z]_屋齡_型態$ 0.073495 0.000190\n",
      "[a-z]_屋齡_型態_移轉層次$ 0.073560 0.000077\n",
      "[a-z]_屋齡_型態_路名$ 0.069852 0.000047\n",
      "[a-z]_同建物$ 0.067761 0.000076\n",
      "[a-z]_路名_型態$ 0.072047 0.000181\n",
      "[a-z]_路名$ 0.071598 0.000230\n",
      "[a-z]_型態$ 0.074517 0.000278\n",
      "[a-z]_屋齡 0.069084 0.000075\n",
      "[a-z]_路名_rev 0.074372 0.000133\n",
      "[a-z]_型態_rev 0.074510 0.000110\n"
     ]
    }
   ],
   "source": [
    "# 計算加入不同實價登錄篩選條件所產生之衍生特徵所得到的mape平均與標準差\n",
    "\n",
    "for name in regex_filters:\n",
    "    \n",
    "    ext_cols = [i for i, s in enumerate(train_x.columns) if re.search(name, s)]\n",
    "    use_cols = origin_feature+origin_derive+external_feature+nearest_feature_x+nearest_feature_y+real_price20_feature + ext_cols\n",
    "    \n",
    "    train_result, valid_result = featureset_scores(use_cols)\n",
    "    \n",
    "    print(f'{name} {np.mean(valid_result):.6f} {np.std(valid_result):.6f}')"
   ]
  },
  {
   "cell_type": "markdown",
   "id": "0728b2fa-72f0-41cf-96d6-57df760dae0b",
   "metadata": {},
   "source": [
    "## 實價登錄資料(2021-2022)數量比例比較\n",
    "\n",
    "此部分之比較方法為直接執行 1.Extra_feature.ipynb並在實價登錄2021-2022年資料前處理完成後隨機取樣(2020, 2021-2022_rev, 2023 等其餘實價登錄特徵則未放入)，並重新執行2.Preproc_modeling.ipynb，程式碼較為冗長，因此在此僅將模型訓練與驗證階段的結果節錄。"
   ]
  },
  {
   "cell_type": "markdown",
   "id": "5a19d182-a290-4886-a713-b6def86a886f",
   "metadata": {},
   "source": [
    "### 實價登錄2021-2022資料 10% "
   ]
  },
  {
   "cell_type": "code",
   "execution_count": 33,
   "id": "af866be7-9c9e-4795-a501-548ae06c3935",
   "metadata": {},
   "outputs": [
    {
     "name": "stdout",
     "output_type": "stream",
     "text": [
      "train error :  0.01005000032751183\n",
      "valid error :  0.07353571533532727\n",
      "train error :  0.01255738311037852\n",
      "valid error :  0.07531112349859596\n",
      "train error :  0.0032641755459023873\n",
      "valid error :  0.07340444231598081\n",
      "train error :  0.00991223324046312\n",
      "valid error :  0.0739041977932835\n",
      "train error :  0.012541224650828478\n",
      "valid error :  0.07556963450347737\n",
      "train error :  0.0036510308444491213\n",
      "valid error :  0.07332674924427075\n",
      "valid error (averaging) :  0.07330389640734472\n",
      "CPU times: total: 58min 24s\n",
      "Wall time: 3min 40s\n"
     ]
    }
   ],
   "source": [
    "%%time\n",
    "\n",
    "m_ls = []\n",
    "test_pred_ls = []\n",
    "for i in range(6):\n",
    "    \n",
    "    if i%3==0:\n",
    "        model = LGBMRegressor(n_estimators=10000, learning_rate=5e-2, reg_alpha = 1e-2, reg_lambda = 5e-1, max_depth=12,\n",
    "                      importance_type=\"gain\", objective='mse', verbose = -1, min_child_samples=3, random_state = 630+i,\n",
    "                      subsample = 0.5, colsample_bytree=0.5, boosting_type = 'dart')\n",
    "    elif i%3==1:\n",
    "        model = LGBMRegressor(boosting_type='gbdt', n_estimators=10000, learning_rate=1e-2,num_leaves = 31, max_depth = -1,\n",
    "                              random_state = 630+i, min_child_samples=5, \n",
    "                          subsample=0.5, colsample_bytree=0.5, reg_alpha=3e-1, reg_lambda=3e-1, subsample_freq=4)\n",
    "    else:\n",
    "        model = LGBMRegressor(n_estimators=10000, learning_rate=1e-1, reg_alpha = 1e-1, reg_lambda = 5e-1, max_depth=12, random_state = 630+i,\n",
    "                      importance_type=\"gain\", objective='mse', drop_rate = 0.1, skip_drop = 0.8, max_drop = 50, xgboost_dart_mode = False,\n",
    "                      subsample = 0.5, colsample_bytree=0.5, boosting_type = 'dart')\n",
    "    \n",
    "    model.fit(train_x, train_y)\n",
    "\n",
    "    train_pred = model.predict(train_x)\n",
    "    print('train error : ', mean_absolute_percentage_error(y_true = train_y, y_pred = train_pred))\n",
    "\n",
    "    if test_mode:\n",
    "        test_pred = model.predict(test_x)\n",
    "        m_ls.append(model)\n",
    "        test_pred_ls.append(test_pred)    \n",
    "    else:\n",
    "        valid_pred = model.predict(valid_x)\n",
    "        print('valid error : ', mean_absolute_percentage_error(y_true = valid_y, y_pred = valid_pred))\n",
    "        test_pred_ls.append(valid_pred)\n",
    "\n",
    "if not test_mode:\n",
    "    print('valid error (averaging) : ', mean_absolute_percentage_error(y_true = valid_y, y_pred = np.mean(test_pred_ls, axis = 0)))\n"
   ]
  },
  {
   "cell_type": "markdown",
   "id": "8b6098b2-e5a4-4b2d-a198-7221a1ff9bc0",
   "metadata": {},
   "source": [
    "### 實價登錄2021-2022資料 50% "
   ]
  },
  {
   "cell_type": "code",
   "execution_count": 20,
   "id": "676dc402-9588-4b3d-8723-552289a36122",
   "metadata": {},
   "outputs": [
    {
     "name": "stdout",
     "output_type": "stream",
     "text": [
      "train error :  0.00919947961051544\n",
      "valid error :  0.06720449092051695\n",
      "train error :  0.011367041003935204\n",
      "valid error :  0.06840980696470825\n",
      "train error :  0.0030759759081931152\n",
      "valid error :  0.06742849163331761\n",
      "train error :  0.009051516186069176\n",
      "valid error :  0.06750577814963944\n",
      "train error :  0.011418042997002857\n",
      "valid error :  0.06843307767885451\n",
      "train error :  0.0034219129288011064\n",
      "valid error :  0.06769947224920826\n",
      "valid error (averaging) :  0.0669229921407007\n",
      "CPU times: total: 58min 12s\n",
      "Wall time: 3min 39s\n"
     ]
    }
   ],
   "source": [
    "%%time\n",
    "\n",
    "m_ls = []\n",
    "test_pred_ls = []\n",
    "for i in range(6):\n",
    "    \n",
    "    if i%3==0:\n",
    "        model = LGBMRegressor(n_estimators=10000, learning_rate=5e-2, reg_alpha = 1e-2, reg_lambda = 5e-1, max_depth=12,\n",
    "                      importance_type=\"gain\", objective='mse', verbose = -1, min_child_samples=3, random_state = 630+i,\n",
    "                      subsample = 0.5, colsample_bytree=0.5, boosting_type = 'dart')\n",
    "    elif i%3==1:\n",
    "        model = LGBMRegressor(boosting_type='gbdt', n_estimators=10000, learning_rate=1e-2,num_leaves = 31, max_depth = -1,\n",
    "                              random_state = 630+i, min_child_samples=5, \n",
    "                          subsample=0.5, colsample_bytree=0.5, reg_alpha=3e-1, reg_lambda=3e-1, subsample_freq=4)\n",
    "    else:\n",
    "        model = LGBMRegressor(n_estimators=10000, learning_rate=1e-1, reg_alpha = 1e-1, reg_lambda = 5e-1, max_depth=12, random_state = 630+i,\n",
    "                      importance_type=\"gain\", objective='mse', drop_rate = 0.1, skip_drop = 0.8, max_drop = 50, xgboost_dart_mode = False,\n",
    "                      subsample = 0.5, colsample_bytree=0.5, boosting_type = 'dart')\n",
    "    \n",
    "    model.fit(train_x, train_y)\n",
    "\n",
    "    train_pred = model.predict(train_x)\n",
    "    print('train error : ', mean_absolute_percentage_error(y_true = train_y, y_pred = train_pred))\n",
    "\n",
    "    if test_mode:\n",
    "        test_pred = model.predict(test_x)\n",
    "        m_ls.append(model)\n",
    "        test_pred_ls.append(test_pred)    \n",
    "    else:\n",
    "        valid_pred = model.predict(valid_x)\n",
    "        print('valid error : ', mean_absolute_percentage_error(y_true = valid_y, y_pred = valid_pred))\n",
    "        test_pred_ls.append(valid_pred)\n",
    "\n",
    "if not test_mode:\n",
    "    print('valid error (averaging) : ', mean_absolute_percentage_error(y_true = valid_y, y_pred = np.mean(test_pred_ls, axis = 0)))\n"
   ]
  },
  {
   "cell_type": "markdown",
   "id": "b06bddb2-9505-460d-a48a-0c06b2331d84",
   "metadata": {},
   "source": [
    "### 實價登錄2021-2022資料 100% "
   ]
  },
  {
   "cell_type": "code",
   "execution_count": 45,
   "id": "0d1dceb9-0bc3-4e30-8f56-cd18a82111fc",
   "metadata": {},
   "outputs": [
    {
     "name": "stdout",
     "output_type": "stream",
     "text": [
      "train error :  0.008692787060194144\n",
      "valid error :  0.06313523526415124\n",
      "train error :  0.010705930195532789\n",
      "valid error :  0.0642847444333944\n",
      "train error :  0.002961669604594316\n",
      "valid error :  0.06303774668659536\n",
      "train error :  0.008509865409360275\n",
      "valid error :  0.06304907353510633\n",
      "train error :  0.010739290713336921\n",
      "valid error :  0.06394147092587354\n",
      "train error :  0.00327035359865446\n",
      "valid error :  0.06294486458406637\n",
      "valid error (averaging) :  0.06253984926333957\n",
      "CPU times: total: 58min 54s\n",
      "Wall time: 3min 46s\n"
     ]
    }
   ],
   "source": [
    "%%time\n",
    "\n",
    "m_ls = []\n",
    "test_pred_ls = []\n",
    "for i in range(6):\n",
    "    \n",
    "    if i%3==0:\n",
    "        model = LGBMRegressor(n_estimators=10000, learning_rate=5e-2, reg_alpha = 1e-2, reg_lambda = 5e-1, max_depth=12,\n",
    "                      importance_type=\"gain\", objective='mse', verbose = -1, min_child_samples=3, random_state = 630+i,\n",
    "                      subsample = 0.5, colsample_bytree=0.5, boosting_type = 'dart')\n",
    "    elif i%3==1:\n",
    "        model = LGBMRegressor(boosting_type='gbdt', n_estimators=10000, learning_rate=1e-2,num_leaves = 31, max_depth = -1,\n",
    "                              random_state = 630+i, min_child_samples=5, \n",
    "                          subsample=0.5, colsample_bytree=0.5, reg_alpha=3e-1, reg_lambda=3e-1, subsample_freq=4)\n",
    "    else:\n",
    "        model = LGBMRegressor(n_estimators=10000, learning_rate=1e-1, reg_alpha = 1e-1, reg_lambda = 5e-1, max_depth=12, random_state = 630+i,\n",
    "                      importance_type=\"gain\", objective='mse', drop_rate = 0.1, skip_drop = 0.8, max_drop = 50, xgboost_dart_mode = False,\n",
    "                      subsample = 0.5, colsample_bytree=0.5, boosting_type = 'dart')\n",
    "    \n",
    "    model.fit(train_x, train_y)\n",
    "\n",
    "    train_pred = model.predict(train_x)\n",
    "    print('train error : ', mean_absolute_percentage_error(y_true = train_y, y_pred = train_pred))\n",
    "\n",
    "    if test_mode:\n",
    "        test_pred = model.predict(test_x)\n",
    "        m_ls.append(model)\n",
    "        test_pred_ls.append(test_pred)    \n",
    "    else:\n",
    "        valid_pred = model.predict(valid_x)\n",
    "        print('valid error : ', mean_absolute_percentage_error(y_true = valid_y, y_pred = valid_pred))\n",
    "        test_pred_ls.append(valid_pred)\n",
    "\n",
    "if not test_mode:\n",
    "    print('valid error (averaging) : ', mean_absolute_percentage_error(y_true = valid_y, y_pred = np.mean(test_pred_ls, axis = 0)))\n"
   ]
  },
  {
   "cell_type": "code",
   "execution_count": null,
   "id": "61a2a774-3357-4387-9ebd-8b9ea7f1f7cf",
   "metadata": {},
   "outputs": [],
   "source": []
  }
 ],
 "metadata": {
  "kernelspec": {
   "display_name": "ML",
   "language": "python",
   "name": "ml"
  },
  "language_info": {
   "codemirror_mode": {
    "name": "ipython",
    "version": 3
   },
   "file_extension": ".py",
   "mimetype": "text/x-python",
   "name": "python",
   "nbconvert_exporter": "python",
   "pygments_lexer": "ipython3",
   "version": "3.8.0"
  }
 },
 "nbformat": 4,
 "nbformat_minor": 5
}
